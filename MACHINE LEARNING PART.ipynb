{
 "cells": [
  {
   "cell_type": "code",
   "execution_count": 52,
   "metadata": {},
   "outputs": [],
   "source": [
    "import numpy as np\n",
    "import  pandas as pd\n",
    "from sklearn.tree import DecisionTreeClassifier\n",
    "from sklearn.ensemble import AdaBoostClassifier\n",
    "from sklearn.metrics import accuracy_score,classification_report,confusion_matrix\n",
    "from sklearn.model_selection import train_test_split \n",
    "from sklearn.svm import SVC\n",
    "from sklearn.model_selection import GridSearchCV , learning_curve"
   ]
  },
  {
   "cell_type": "code",
   "execution_count": 53,
   "metadata": {},
   "outputs": [
    {
     "name": "stdout",
     "output_type": "stream",
     "text": [
      "   0         X1     X2      X3     X4     X5  Label\n",
      "0  1  -4.31E-01  0.868 -0.9260 -0.927 -0.569    0.0\n",
      "1  2   3.39E-01  0.562  0.9310 -0.916 -0.545    0.0\n",
      "2  3  -4.29E-01  0.871 -0.9280 -0.775 -0.583    0.0\n",
      "3  4  -4.33E-01  0.861 -0.9220 -0.880 -0.500    0.0\n",
      "4  5  -9.99E-01 -0.999  0.0775 -0.842 -0.515    0.0\n",
      "<class 'pandas.core.frame.DataFrame'>\n",
      "Int64Index: 199 entries, 0 to 199\n",
      "Data columns (total 6 columns):\n",
      "X1       199 non-null float64\n",
      "X2       199 non-null float64\n",
      "X3       199 non-null float64\n",
      "X4       199 non-null float64\n",
      "X5       199 non-null float64\n",
      "Label    199 non-null float64\n",
      "dtypes: float64(6)\n",
      "memory usage: 10.9 KB\n"
     ]
    },
    {
     "name": "stderr",
     "output_type": "stream",
     "text": [
      "c:\\users\\rag9704\\appdata\\local\\programs\\python\\python36\\lib\\site-packages\\ipykernel_launcher.py:4: FutureWarning: convert_objects is deprecated.  To re-infer data dtypes for object columns, use Series.infer_objects()\n",
      "For all other conversions use the data-type specific converters pd.to_datetime, pd.to_timedelta and pd.to_numeric.\n",
      "  after removing the cwd from sys.path.\n"
     ]
    }
   ],
   "source": [
    "df = pd.read_csv(r\"C:\\Users\\Rag9704\\Desktop\\financecode\\Book4.csv\")\n",
    "print(df.head())\n",
    "df= df[['X1','X2','X3','X4','X5','Label']]\n",
    "df['X1'] = df['X1'].convert_objects(convert_numeric = True)\n",
    "df=df.dropna()\n",
    "X = df.drop('Label',axis=1)\n",
    "y = df['Label']\n",
    "df.info()\n"
   ]
  },
  {
   "cell_type": "code",
   "execution_count": 54,
   "metadata": {},
   "outputs": [],
   "source": [
    "X_train, X_test, y_train,y_test = train_test_split(X,y,test_size=0.5,random_state=0)"
   ]
  },
  {
   "cell_type": "code",
   "execution_count": 69,
   "metadata": {},
   "outputs": [
    {
     "name": "stdout",
     "output_type": "stream",
     "text": [
      "accuracy is : 70.0\n",
      "accuracy is : 70.0\n"
     ]
    }
   ],
   "source": [
    "clf_entropy_no_ada = DecisionTreeClassifier(criterion = \"entropy\", random_state = 100,\n",
    "                                            max_depth = 10,min_samples_leaf=5)\n",
    "clf_entropy_no_ada.fit(X_train,y_train)\n",
    "y_predict_no_ada = clf_entropy_no_ada.predict(X_test)\n",
    "print(\"accuracy is :\",accuracy_score(y_test,y_predict_no_ada)*100)\n",
    "\n",
    "#decision tree with boosting\n",
    "clf_entropy_ada = AdaBoostClassifier(base_estimator = clf_entropy_no_ada ,n_estimators=50,\n",
    "                                     learning_rate =0.5)\n",
    "clf_entropy_ada.fit(X_train,y_train)\n",
    "y_predict_ada = clf_entropy_ada.predict(X_test)\n",
    "print(\"accuracy is :\",accuracy_score(y_test,y_predict_ada)*100) "
   ]
  },
  {
   "cell_type": "code",
   "execution_count": 71,
   "metadata": {},
   "outputs": [
    {
     "name": "stderr",
     "output_type": "stream",
     "text": [
      "c:\\users\\rag9704\\appdata\\local\\programs\\python\\python36\\lib\\site-packages\\sklearn\\model_selection\\_split.py:1978: FutureWarning: The default value of cv will change from 3 to 5 in version 0.22. Specify it explicitly to silence this warning.\n",
      "  warnings.warn(CV_WARNING, FutureWarning)\n"
     ]
    },
    {
     "name": "stdout",
     "output_type": "stream",
     "text": [
      "Best : 0.777778 using {'base_estimator__criterion': 'gini', 'base_estimator__splitter': 'best', 'learning_rate': 2, 'n_estimators': 100}\n",
      "0.737374(0.041977) with: {'base_estimator__criterion': 'gini', 'base_estimator__splitter': 'best', 'learning_rate': 0.5, 'n_estimators': 50}\n",
      "0.737374(0.029193) with: {'base_estimator__criterion': 'gini', 'base_estimator__splitter': 'best', 'learning_rate': 0.5, 'n_estimators': 100}\n",
      "0.757576(0.060201) with: {'base_estimator__criterion': 'gini', 'base_estimator__splitter': 'best', 'learning_rate': 2, 'n_estimators': 50}\n",
      "0.777778(0.048122) with: {'base_estimator__criterion': 'gini', 'base_estimator__splitter': 'best', 'learning_rate': 2, 'n_estimators': 100}\n",
      "0.717172(0.015800) with: {'base_estimator__criterion': 'gini', 'base_estimator__splitter': 'random', 'learning_rate': 0.5, 'n_estimators': 50}\n",
      "0.707071(0.008865) with: {'base_estimator__criterion': 'gini', 'base_estimator__splitter': 'random', 'learning_rate': 0.5, 'n_estimators': 100}\n",
      "0.717172(0.056287) with: {'base_estimator__criterion': 'gini', 'base_estimator__splitter': 'random', 'learning_rate': 2, 'n_estimators': 50}\n",
      "0.717172(0.008865) with: {'base_estimator__criterion': 'gini', 'base_estimator__splitter': 'random', 'learning_rate': 2, 'n_estimators': 100}\n",
      "0.727273(0.022252) with: {'base_estimator__criterion': 'entropy', 'base_estimator__splitter': 'best', 'learning_rate': 0.5, 'n_estimators': 50}\n",
      "0.727273(0.028475) with: {'base_estimator__criterion': 'entropy', 'base_estimator__splitter': 'best', 'learning_rate': 0.5, 'n_estimators': 100}\n",
      "0.717172(0.045080) with: {'base_estimator__criterion': 'entropy', 'base_estimator__splitter': 'best', 'learning_rate': 2, 'n_estimators': 50}\n",
      "0.696970(0.060536) with: {'base_estimator__criterion': 'entropy', 'base_estimator__splitter': 'best', 'learning_rate': 2, 'n_estimators': 100}\n",
      "0.707071(0.042530) with: {'base_estimator__criterion': 'entropy', 'base_estimator__splitter': 'random', 'learning_rate': 0.5, 'n_estimators': 50}\n",
      "0.737374(0.050451) with: {'base_estimator__criterion': 'entropy', 'base_estimator__splitter': 'random', 'learning_rate': 0.5, 'n_estimators': 100}\n",
      "0.707071(0.041056) with: {'base_estimator__criterion': 'entropy', 'base_estimator__splitter': 'random', 'learning_rate': 2, 'n_estimators': 50}\n",
      "0.686869(0.016135) with: {'base_estimator__criterion': 'entropy', 'base_estimator__splitter': 'random', 'learning_rate': 2, 'n_estimators': 100}\n"
     ]
    },
    {
     "name": "stderr",
     "output_type": "stream",
     "text": [
      "c:\\users\\rag9704\\appdata\\local\\programs\\python\\python36\\lib\\site-packages\\sklearn\\model_selection\\_search.py:813: DeprecationWarning: The default of the `iid` parameter will change from True to False in version 0.22 and will be removed in 0.24. This will change numeric results when test-set sizes are unequal.\n",
      "  DeprecationWarning)\n"
     ]
    }
   ],
   "source": [
    "param_grid = {\"base_estimator__criterion\" : [\"gini\",\"entropy\"],\"base_estimator__splitter\":[\"best\", \"random\"],\n",
    "             \"n_estimators\" : [50,100],\"learning_rate\" :[0.5,2]}\n",
    "\n",
    "DTC = DecisionTreeClassifier(criterion = \"entropy\", random_state = 100,\n",
    "                                            max_depth = 10,min_samples_leaf=5)\n",
    "ABC = AdaBoostClassifier(base_estimator = DTC)\n",
    "grid_search_ABC = GridSearchCV(ABC, param_grid = param_grid, scoring = 'accuracy')\n",
    "grid_result = grid_search_ABC.fit(X_train,y_train)\n",
    "\n",
    "print(\"Best : %f using %s\" % (grid_result.best_score_,grid_result.best_params_))\n",
    "means = grid_result.cv_results_['mean_test_score']\n",
    "stds = grid_result.cv_results_['std_test_score']\n",
    "params = grid_result.cv_results_['params']\n",
    "for mean,stddev,param in zip(means,stds,params):\n",
    "    print(\"%f(%f) with: %r\" % (mean,stddev,param))"
   ]
  },
  {
   "cell_type": "code",
   "execution_count": 62,
   "metadata": {},
   "outputs": [
    {
     "name": "stdout",
     "output_type": "stream",
     "text": [
      "[[39 10]\n",
      " [18 33]]\n",
      "              precision    recall  f1-score   support\n",
      "\n",
      "         0.0       0.68      0.80      0.74        49\n",
      "         1.0       0.77      0.65      0.70        51\n",
      "\n",
      "    accuracy                           0.72       100\n",
      "   macro avg       0.73      0.72      0.72       100\n",
      "weighted avg       0.73      0.72      0.72       100\n",
      "\n"
     ]
    }
   ],
   "source": [
    "svclassifier = SVC(kernel='linear')\n",
    "svclassifier.fit(X_train,y_train)\n",
    "y_pred = svclassifier.predict(X_test)\n",
    "print(confusion_matrix(y_test,y_pred))\n",
    "print(classification_report(y_test,y_pred))"
   ]
  },
  {
   "cell_type": "code",
   "execution_count": 46,
   "metadata": {},
   "outputs": [
    {
     "name": "stdout",
     "output_type": "stream",
     "text": [
      "[[36 13]\n",
      " [12 39]]\n",
      "              precision    recall  f1-score   support\n",
      "\n",
      "         0.0       0.75      0.73      0.74        49\n",
      "         1.0       0.75      0.76      0.76        51\n",
      "\n",
      "    accuracy                           0.75       100\n",
      "   macro avg       0.75      0.75      0.75       100\n",
      "weighted avg       0.75      0.75      0.75       100\n",
      "\n"
     ]
    }
   ],
   "source": [
    "svclassifier = SVC(kernel='poly',degree = 12,gamma = 'scale')\n",
    "svclassifier.fit(X_train,y_train)\n",
    "y_pred = svclassifier.predict(X_test)\n",
    "print(confusion_matrix(y_test,y_pred))\n",
    "print(classification_report(y_test,y_pred))"
   ]
  },
  {
   "cell_type": "code",
   "execution_count": 33,
   "metadata": {},
   "outputs": [
    {
     "name": "stdout",
     "output_type": "stream",
     "text": [
      "[[39 10]\n",
      " [18 33]]\n",
      "              precision    recall  f1-score   support\n",
      "\n",
      "         0.0       0.68      0.80      0.74        49\n",
      "         1.0       0.77      0.65      0.70        51\n",
      "\n",
      "    accuracy                           0.72       100\n",
      "   macro avg       0.73      0.72      0.72       100\n",
      "weighted avg       0.73      0.72      0.72       100\n",
      "\n"
     ]
    }
   ],
   "source": [
    "svclassifier = SVC(kernel='rbf',gamma = 'scale')\n",
    "svclassifier.fit(X_train,y_train)\n",
    "y_pred = svclassifier.predict(X_test)\n",
    "print(confusion_matrix(y_test,y_pred))\n",
    "print(classification_report(y_test,y_pred))"
   ]
  },
  {
   "cell_type": "code",
   "execution_count": 79,
   "metadata": {},
   "outputs": [
    {
     "name": "stdout",
     "output_type": "stream",
     "text": [
      "[[39 10]\n",
      " [18 33]]\n",
      "              precision    recall  f1-score   support\n",
      "\n",
      "         0.0       0.68      0.80      0.74        49\n",
      "         1.0       0.77      0.65      0.70        51\n",
      "\n",
      "    accuracy                           0.72       100\n",
      "   macro avg       0.73      0.72      0.72       100\n",
      "weighted avg       0.73      0.72      0.72       100\n",
      "\n"
     ]
    }
   ],
   "source": [
    "svclassifier = SVC(kernel='sigmoid',gamma = 'scale')\n",
    "svclassifier.fit(X_train,y_train)\n",
    "y_pred = svclassifier.predict(X_test)\n",
    "print(confusion_matrix(y_test,y_pred))\n",
    "print(classification_report(y_test,y_pred))"
   ]
  },
  {
   "cell_type": "code",
   "execution_count": 77,
   "metadata": {},
   "outputs": [],
   "source": [
    "\n"
   ]
  },
  {
   "cell_type": "code",
   "execution_count": null,
   "metadata": {},
   "outputs": [],
   "source": []
  },
  {
   "cell_type": "code",
   "execution_count": null,
   "metadata": {},
   "outputs": [],
   "source": []
  },
  {
   "cell_type": "code",
   "execution_count": null,
   "metadata": {},
   "outputs": [],
   "source": []
  }
 ],
 "metadata": {
  "kernelspec": {
   "display_name": "Python 3",
   "language": "python",
   "name": "python3"
  },
  "language_info": {
   "codemirror_mode": {
    "name": "ipython",
    "version": 3
   },
   "file_extension": ".py",
   "mimetype": "text/x-python",
   "name": "python",
   "nbconvert_exporter": "python",
   "pygments_lexer": "ipython3",
   "version": "3.6.7"
  }
 },
 "nbformat": 4,
 "nbformat_minor": 4
}
