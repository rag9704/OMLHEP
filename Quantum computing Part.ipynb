{
 "cells": [
  {
   "cell_type": "markdown",
   "metadata": {},
   "source": [
    "Qunatum Circuit Assignment \n",
    "\n",
    "\n",
    "Step 1 ) Import all the Librares (cirq , numpy )"
   ]
  },
  {
   "cell_type": "code",
   "execution_count": null,
   "metadata": {},
   "outputs": [],
   "source": [
    "import cirq\n",
    "from cirq.circuits import InsertStrategy\n",
    "import numpy as np\n",
    "from cirq import Simulator\n",
    "import matplotlib.pyplot as plt\n"
   ]
  },
  {
   "cell_type": "markdown",
   "metadata": {},
   "source": [
    "Step 2 ) Create circuit ,\n",
    "         define length of cicuit, (=5), using LineQubit \n",
    "         apply Hadamard Gate (cirq.H(q))\n",
    "         apply CNot gate with control of i th qubit at i-1 qubit\n",
    "         apply SWAP gate between 1st and 5th qubit\n",
    "         apply RX rotation with angle 90 degrees\n",
    "         Print the circuit\n",
    "         \n",
    "         Note :  Creates a new moment at the desired insert location for the first operation, but then switches to inserting                    operations according to InsertStrategy.INLINE                        "
   ]
  },
  {
   "cell_type": "code",
   "execution_count": 14,
   "metadata": {},
   "outputs": [
    {
     "name": "stdout",
     "output_type": "stream",
     "text": [
      "0: ───H───@───────────────×───Rx(0.5π)───\n",
      "          │               │\n",
      "1: ───H───X───@───────────┼───Rx(0.5π)───\n",
      "              │           │\n",
      "2: ───H───────X───@───────┼───Rx(0.5π)───\n",
      "                  │       │\n",
      "3: ───H───────────X───@───┼───Rx(0.5π)───\n",
      "                      │   │\n",
      "4: ───H───────────────X───×───Rx(0.5π)───\n"
     ]
    }
   ],
   "source": [
    "length = 5 \n",
    "qubits = cirq.LineQubit.range(length)\n",
    "circuit = cirq.Circuit()\n",
    "circuit.append([cirq.H(q)] for q in qubits)\n",
    "circuit.append([cirq.CX(qubits[i],qubits[i+1])]for i in range(length-1))\n",
    "circuit.append([cirq.SWAP(qubits[0],qubits[4])])\n",
    "circuit.append([cirq.rx(np.pi/2).on(q) for q in qubits], strategy= InsertStrategy.NEW_THEN_INLINE)\n",
    "print(circuit)\n"
   ]
  },
  {
   "cell_type": "markdown",
   "metadata": {},
   "source": [
    "Assignment 2)\n",
    "\n",
    "Create a circuit with a qubit and apply Rx rotation gate with ceratain angle theta and calculte the probability of being the state in 0 "
   ]
  },
  {
   "cell_type": "code",
   "execution_count": 44,
   "metadata": {},
   "outputs": [
    {
     "name": "stdout",
     "output_type": "stream",
     "text": [
      "0: ───Rx(0.006π)───Rx(0.006π)───Rx(0.006π)───Rx(0.006π)───Rx(0.006π)───Rx(0.006π)───Rx(0.006π)───Rx(0.006π)───Rx(0.006π)───Rx(0.006π)───Rx(0.006π)───Rx(0.006π)───Rx(0.006π)───Rx(0.006π)───Rx(0.006π)───Rx(0.006π)───Rx(0.006π)───Rx(0.006π)───Rx(0.006π)───Rx(0.006π)───Rx(0.006π)───Rx(0.006π)───Rx(0.006π)───Rx(0.006π)───Rx(0.006π)───Rx(0.006π)───Rx(0.006π)───Rx(0.006π)───Rx(0.006π)───Rx(0.006π)───Rx(0.006π)───Rx(0.006π)───Rx(0.006π)───Rx(0.006π)───Rx(0.006π)───Rx(0.006π)───Rx(0.006π)───Rx(0.006π)───Rx(0.006π)───Rx(0.006π)───Rx(0.006π)───Rx(0.006π)───Rx(0.006π)───Rx(0.006π)───Rx(0.006π)───Rx(0.006π)───Rx(0.006π)───Rx(0.006π)───Rx(0.006π)───Rx(0.006π)───Rx(0.006π)───Rx(0.006π)───Rx(0.006π)───Rx(0.006π)───Rx(0.006π)───Rx(0.006π)───Rx(0.006π)───Rx(0.006π)───Rx(0.006π)───Rx(0.006π)───Rx(0.006π)───Rx(0.006π)───Rx(0.006π)───Rx(0.006π)───Rx(0.006π)───Rx(0.006π)───Rx(0.006π)───Rx(0.006π)───Rx(0.006π)───Rx(0.006π)───Rx(0.006π)───Rx(0.006π)───Rx(0.006π)───Rx(0.006π)───Rx(0.006π)───Rx(0.006π)───Rx(0.006π)───Rx(0.006π)───Rx(0.006π)───Rx(0.006π)───Rx(0.006π)───Rx(0.006π)───Rx(0.006π)───Rx(0.006π)───Rx(0.006π)───Rx(0.006π)───Rx(0.006π)───Rx(0.006π)───Rx(0.006π)───Rx(0.006π)───Rx(0.006π)───Rx(0.006π)───Rx(0.006π)───Rx(0.006π)───Rx(0.006π)───Rx(0.006π)───Rx(0.006π)───Rx(0.006π)───Rx(0.006π)───Rx(0.006π)───M('x')───\n",
      "Counter({1: 56, 0: 44})\n"
     ]
    },
    {
     "data": {
      "image/png": "[encoded data removed]",
      "text/plain": [
       "<Figure size 432x288 with 1 Axes>"
      ]
     },
     "metadata": {
      "needs_background": "light"
     },
     "output_type": "display_data"
    },
    {
     "data": {
      "text/plain": [
       "array([44., 56.])"
      ]
     },
     "execution_count": 44,
     "metadata": {},
     "output_type": "execute_result"
    }
   ],
   "source": [
    "\n",
    "\n",
    "\n",
    "length = 1  #no. of qubit  \n",
    "theta = 1   #angle in degree \n",
    "n= 100     #no. of Rx gate to be applied \n",
    "qubits = cirq.LineQubit.range(length)\n",
    "circuit = cirq.Circuit()\n",
    "for i in range(n):\n",
    "    circuit.append([cirq.rx(np.pi*theta/180).on(q) for q in qubits], strategy= InsertStrategy.NEW_THEN_INLINE)\n",
    "    \n",
    "\n",
    "circuit.append(cirq.measure(*qubits, key='x'))\n",
    "print(circuit)\n",
    "\n",
    "simulator = Simulator()\n",
    "results = simulator.run(circuit, repetitions=100)\n",
    "\n",
    "print(results.histogram(key='x')) \n",
    "x=results.histogram(key='x')\n",
    "cirq.plot_state_histogram(results) \n"
   ]
  },
  {
   "cell_type": "code",
   "execution_count": null,
   "metadata": {},
   "outputs": [],
   "source": []
  }
 ],
 "metadata": {
  "kernelspec": {
   "display_name": "Python 3",
   "language": "python",
   "name": "python3"
  },
  "language_info": {
   "codemirror_mode": {
    "name": "ipython",
    "version": 3
   },
   "file_extension": ".py",
   "mimetype": "text/x-python",
   "name": "python",
   "nbconvert_exporter": "python",
   "pygments_lexer": "ipython3",
   "version": "3.6.7"
  }
 },
 "nbformat": 4,
 "nbformat_minor": 4
}
